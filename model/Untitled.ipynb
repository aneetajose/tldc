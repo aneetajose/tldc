{
 "cells": [
  {
   "cell_type": "code",
   "execution_count": 1,
   "id": "11e274dd",
   "metadata": {},
   "outputs": [],
   "source": [
    "from keras.models import Sequential\n",
    "from keras.layers import Conv2D, MaxPooling2D, Flatten, Dense\n",
    "from keras.preprocessing.image import ImageDataGenerator"
   ]
  },
  {
   "cell_type": "code",
   "execution_count": 5,
   "id": "57781fe4",
   "metadata": {},
   "outputs": [
    {
     "name": "stdout",
     "output_type": "stream",
     "text": [
      "Found 1600 images belonging to 2 classes.\n",
      "Found 400 images belonging to 2 classes.\n"
     ]
    }
   ],
   "source": [
    "data_directory = '../Dataset/train_data'\n",
    "\n",
    "# Define image data generator for preprocessing and augmentation\n",
    "datagen = ImageDataGenerator(\n",
    "    rescale=1./255,  # Normalize pixel values to [0, 1]\n",
    "    validation_split=0.2  # Percentage of data to use for validation\n",
    ")\n",
    "\n",
    "# Load and split the dataset into training and testing sets\n",
    "train_generator = datagen.flow_from_directory(\n",
    "    data_directory,\n",
    "    target_size=(256, 256),\n",
    "    batch_size=32,\n",
    "    class_mode='sparse',\n",
    "    subset='training',\n",
    "    seed=42\n",
    ")\n",
    "\n",
    "validation_generator = datagen.flow_from_directory(\n",
    "    data_directory,\n",
    "    target_size=(256, 256),\n",
    "    batch_size=32,\n",
    "    class_mode='sparse',\n",
    "    subset='validation',\n",
    "    seed=42\n",
    ")\n"
   ]
  },
  {
   "cell_type": "code",
   "execution_count": 6,
   "id": "26f84d6e",
   "metadata": {},
   "outputs": [],
   "source": [
    "# Define model architecture\n",
    "model = Sequential([\n",
    "    Conv2D(32, (3, 3), activation='relu', input_shape=(256, 256, 3)),\n",
    "    MaxPooling2D((2, 2)),\n",
    "    Conv2D(64, (3, 3), activation='relu'),\n",
    "    MaxPooling2D((2, 2)),\n",
    "    Conv2D(128, (3, 3), activation='relu'),\n",
    "    MaxPooling2D((2, 2)),\n",
    "    Flatten(),\n",
    "    Dense(128, activation='relu'),\n",
    "    Dense(2, activation='softmax')\n",
    "])\n",
    "\n",
    "# Compile the model\n",
    "model.compile(optimizer='adam',\n",
    "              loss='sparse_categorical_crossentropy',\n",
    "              metrics=['accuracy'])"
   ]
  },
  {
   "cell_type": "code",
   "execution_count": null,
   "id": "07da87d8",
   "metadata": {},
   "outputs": [
    {
     "name": "stdout",
     "output_type": "stream",
     "text": [
      "Epoch 1/10\n",
      "50/50 [==============================] - 45s 897ms/step - loss: 0.6240 - accuracy: 0.7925 - val_loss: 0.1831 - val_accuracy: 0.9300\n",
      "Epoch 2/10\n",
      "50/50 [==============================] - 45s 896ms/step - loss: 0.1727 - accuracy: 0.9375 - val_loss: 0.1278 - val_accuracy: 0.9500\n",
      "Epoch 3/10\n",
      "50/50 [==============================] - 46s 928ms/step - loss: 0.1085 - accuracy: 0.9563 - val_loss: 0.0757 - val_accuracy: 0.9675\n",
      "Epoch 4/10\n",
      "50/50 [==============================] - 46s 920ms/step - loss: 0.0759 - accuracy: 0.9694 - val_loss: 0.1106 - val_accuracy: 0.9625\n",
      "Epoch 5/10\n",
      "50/50 [==============================] - 45s 898ms/step - loss: 0.0810 - accuracy: 0.9737 - val_loss: 0.0847 - val_accuracy: 0.9650\n",
      "Epoch 6/10\n",
      "50/50 [==============================] - 46s 921ms/step - loss: 0.0526 - accuracy: 0.9787 - val_loss: 0.0969 - val_accuracy: 0.9525\n",
      "Epoch 7/10\n",
      "50/50 [==============================] - 45s 897ms/step - loss: 0.0344 - accuracy: 0.9875 - val_loss: 0.0925 - val_accuracy: 0.9625\n",
      "Epoch 8/10\n",
      "50/50 [==============================] - 45s 903ms/step - loss: 0.0712 - accuracy: 0.9750 - val_loss: 0.0596 - val_accuracy: 0.9775\n",
      "Epoch 9/10\n",
      "50/50 [==============================] - 47s 949ms/step - loss: 0.0133 - accuracy: 0.9944 - val_loss: 0.0770 - val_accuracy: 0.9725\n",
      "Epoch 10/10\n",
      "37/50 [=====================>........] - ETA: 11s - loss: 0.0047 - accuracy: 0.9992"
     ]
    }
   ],
   "source": [
    "model.fit(train_generator, epochs=10, validation_data=validation_generator)"
   ]
  },
  {
   "cell_type": "code",
   "execution_count": null,
   "id": "00516336",
   "metadata": {},
   "outputs": [],
   "source": []
  }
 ],
 "metadata": {
  "kernelspec": {
   "display_name": "Python 3 (ipykernel)",
   "language": "python",
   "name": "python3"
  },
  "language_info": {
   "codemirror_mode": {
    "name": "ipython",
    "version": 3
   },
   "file_extension": ".py",
   "mimetype": "text/x-python",
   "name": "python",
   "nbconvert_exporter": "python",
   "pygments_lexer": "ipython3",
   "version": "3.10.4"
  }
 },
 "nbformat": 4,
 "nbformat_minor": 5
}
