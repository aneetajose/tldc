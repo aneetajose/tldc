{
 "cells": [
  {
   "cell_type": "code",
   "execution_count": 2,
   "id": "b481cab2",
   "metadata": {},
   "outputs": [],
   "source": [
    "import tensorflow as tf\n",
    "from keras.models import Sequential, load_model\n",
    "from keras.layers import Conv2D, MaxPooling2D, Flatten, Dense\n",
    "from keras.preprocessing.image import ImageDataGenerator\n",
    "import numpy as np\n",
    "from tensorflow.keras.preprocessing import image\n",
    "import matplotlib.pyplot as plt"
   ]
  },
  {
   "cell_type": "code",
   "execution_count": 3,
   "id": "40d40dbe",
   "metadata": {},
   "outputs": [
    {
     "name": "stdout",
     "output_type": "stream",
     "text": [
      "Found 2000 files belonging to 2 classes.\n",
      "['Tomato___Bacterial_spot', 'Tomato___Tomato_Yellow_Leaf_Curl_Virus']\n"
     ]
    }
   ],
   "source": [
    "img_dataset = tf.keras.preprocessing.image_dataset_from_directory(\n",
    "    '../Dataset/train_data',\n",
    "    shuffle = True,\n",
    "    image_size = (256, 256),\n",
    "    batch_size = 32)\n",
    "class_names = img_dataset.class_names\n",
    "print(class_names)"
   ]
  },
  {
   "cell_type": "code",
   "execution_count": 4,
   "id": "ed587963",
   "metadata": {},
   "outputs": [
    {
     "name": "stdout",
     "output_type": "stream",
     "text": [
      "Found 1600 images belonging to 2 classes.\n",
      "Found 400 images belonging to 2 classes.\n"
     ]
    }
   ],
   "source": [
    "data_directory = '../Dataset/train_data'\n",
    "\n",
    "# Define image data generator for preprocessing and augmentation\n",
    "datagen = ImageDataGenerator(\n",
    "    rescale=1./255,  # Normalize pixel values to [0, 1]\n",
    "    validation_split=0.2  # Percentage of data to use for validation\n",
    ")\n",
    "\n",
    "# Load and split the dataset into training and testing sets\n",
    "train_generator = datagen.flow_from_directory(\n",
    "    data_directory,\n",
    "    target_size=(256, 256),\n",
    "    batch_size=32,\n",
    "    class_mode='sparse',\n",
    "    subset='training',\n",
    "    seed=42\n",
    ")\n",
    "\n",
    "validation_generator = datagen.flow_from_directory(\n",
    "    data_directory,\n",
    "    target_size=(256, 256),\n",
    "    batch_size=32,\n",
    "    class_mode='sparse',\n",
    "    subset='validation',\n",
    "    seed=42\n",
    ")\n"
   ]
  },
  {
   "cell_type": "code",
   "execution_count": 5,
   "id": "695e95b1",
   "metadata": {},
   "outputs": [],
   "source": [
    "# Define model architecture\n",
    "model = Sequential([\n",
    "    Conv2D(32, (3, 3), activation='relu', input_shape=(256, 256, 3)),\n",
    "    MaxPooling2D((2, 2)),\n",
    "    Conv2D(64, (3, 3), activation='relu'),\n",
    "    MaxPooling2D((2, 2)),\n",
    "    Conv2D(128, (3, 3), activation='relu'),\n",
    "    MaxPooling2D((2, 2)),\n",
    "    Flatten(),\n",
    "    Dense(128, activation='relu'),\n",
    "    Dense(2, activation='softmax')\n",
    "])\n",
    "\n",
    "# Compile the model\n",
    "model.compile(optimizer='adam',\n",
    "              loss='sparse_categorical_crossentropy',\n",
    "              metrics=['accuracy'])"
   ]
  },
  {
   "cell_type": "code",
   "execution_count": 6,
   "id": "c0cb90ae",
   "metadata": {},
   "outputs": [
    {
     "name": "stdout",
     "output_type": "stream",
     "text": [
      "Epoch 1/10\n",
      "50/50 [==============================] - 100s 2s/step - loss: 0.7557 - accuracy: 0.6894 - val_loss: 0.3735 - val_accuracy: 0.8575\n",
      "Epoch 2/10\n",
      "50/50 [==============================] - 72s 1s/step - loss: 0.1998 - accuracy: 0.9294 - val_loss: 0.1468 - val_accuracy: 0.9525\n",
      "Epoch 3/10\n",
      "50/50 [==============================] - 45s 892ms/step - loss: 0.1617 - accuracy: 0.9356 - val_loss: 0.1562 - val_accuracy: 0.9400\n",
      "Epoch 4/10\n",
      "50/50 [==============================] - 45s 895ms/step - loss: 0.1323 - accuracy: 0.9538 - val_loss: 0.1075 - val_accuracy: 0.9675\n",
      "Epoch 5/10\n",
      "50/50 [==============================] - 44s 888ms/step - loss: 0.0757 - accuracy: 0.9700 - val_loss: 0.0749 - val_accuracy: 0.9725\n",
      "Epoch 6/10\n",
      "50/50 [==============================] - 45s 895ms/step - loss: 0.0621 - accuracy: 0.9769 - val_loss: 0.0820 - val_accuracy: 0.9700\n",
      "Epoch 7/10\n",
      "50/50 [==============================] - 46s 911ms/step - loss: 0.0810 - accuracy: 0.9712 - val_loss: 0.1360 - val_accuracy: 0.9400\n",
      "Epoch 8/10\n",
      "50/50 [==============================] - 49s 985ms/step - loss: 0.0625 - accuracy: 0.9769 - val_loss: 0.0849 - val_accuracy: 0.9750\n",
      "Epoch 9/10\n",
      "50/50 [==============================] - 46s 919ms/step - loss: 0.0464 - accuracy: 0.9825 - val_loss: 0.0862 - val_accuracy: 0.9725\n",
      "Epoch 10/10\n",
      "50/50 [==============================] - 45s 910ms/step - loss: 0.0362 - accuracy: 0.9912 - val_loss: 0.0708 - val_accuracy: 0.9750\n"
     ]
    }
   ],
   "source": [
    "hist = model.fit(train_generator, epochs=10, validation_data=validation_generator)"
   ]
  },
  {
   "cell_type": "code",
   "execution_count": 7,
   "id": "262a0a86",
   "metadata": {},
   "outputs": [],
   "source": [
    "model.save('classifier.keras')\n",
    "model = load_model('classifier.keras')"
   ]
  },
  {
   "cell_type": "code",
   "execution_count": 8,
   "id": "4c7ad858",
   "metadata": {},
   "outputs": [
    {
     "name": "stdout",
     "output_type": "stream",
     "text": [
      "13/13 [==============================] - 2s 160ms/step - loss: 0.0708 - accuracy: 0.9750\n",
      "Test accuracy: 0.9750000238418579\n"
     ]
    }
   ],
   "source": [
    "test_loss, test_acc = model.evaluate(validation_generator)\n",
    "print('Test accuracy:', test_acc)\n",
    "prec = model."
   ]
  },
  {
   "cell_type": "code",
   "execution_count": 1,
   "id": "d9cd97a4",
   "metadata": {},
   "outputs": [
    {
     "ename": "NameError",
     "evalue": "name 'plt' is not defined",
     "output_type": "error",
     "traceback": [
      "\u001b[1;31m---------------------------------------------------------------------------\u001b[0m",
      "\u001b[1;31mNameError\u001b[0m                                 Traceback (most recent call last)",
      "Cell \u001b[1;32mIn [1], line 1\u001b[0m\n\u001b[1;32m----> 1\u001b[0m \u001b[43mplt\u001b[49m\u001b[38;5;241m.\u001b[39mfigure(figsize\u001b[38;5;241m=\u001b[39m(\u001b[38;5;241m14\u001b[39m, \u001b[38;5;241m5\u001b[39m))\n\u001b[0;32m      2\u001b[0m plt\u001b[38;5;241m.\u001b[39msubplot(\u001b[38;5;241m1\u001b[39m, \u001b[38;5;241m2\u001b[39m, \u001b[38;5;241m1\u001b[39m)\n\u001b[0;32m      3\u001b[0m plt\u001b[38;5;241m.\u001b[39mplot(hist\u001b[38;5;241m.\u001b[39mhistory[\u001b[38;5;124m'\u001b[39m\u001b[38;5;124maccuracy\u001b[39m\u001b[38;5;124m'\u001b[39m], label\u001b[38;5;241m=\u001b[39m\u001b[38;5;124m'\u001b[39m\u001b[38;5;124mTraining Accuracy \u001b[39m\u001b[38;5;124m'\u001b[39m)\n",
      "\u001b[1;31mNameError\u001b[0m: name 'plt' is not defined"
     ]
    }
   ],
   "source": [
    "plt.figure(figsize=(14, 5))\n",
    "plt.subplot(1, 2, 1)\n",
    "plt.plot(hist.history['accuracy'], label='Training Accuracy ')\n",
    "plt.plot(hist.history['val_accuracy'], label='Validation Accuracy')\n",
    "plt.title('Training and Validation Accuracy')\n",
    "plt.xlabel('Epochs')\n",
    "plt.ylabel('Accuracy')\n",
    "plt.legend()"
   ]
  },
  {
   "cell_type": "code",
   "execution_count": 10,
   "id": "f85663b1",
   "metadata": {},
   "outputs": [
    {
     "data": {
      "text/plain": [
       "<matplotlib.legend.Legend at 0x2800db7e680>"
      ]
     },
     "execution_count": 10,
     "metadata": {},
     "output_type": "execute_result"
    },
    {
     "data": {
      "image/png": "[encoded data removed]",
      "text/plain": [
       "<Figure size 1400x500 with 1 Axes>"
      ]
     },
     "metadata": {},
     "output_type": "display_data"
    }
   ],
   "source": [
    "plt.figure(figsize=(14, 5))\n",
    "plt.subplot(1, 2, 1)\n",
    "plt.plot(hist.history['loss'], label='Training Loss ')\n",
    "plt.plot(hist.history['val_loss'], label='Validation Loss')\n",
    "plt.title('Training and Validation Loss')\n",
    "plt.xlabel('Epochs')\n",
    "plt.ylabel('Loss')\n",
    "plt.legend()"
   ]
  },
  {
   "cell_type": "code",
   "execution_count": null,
   "id": "8f7074f7",
   "metadata": {},
   "outputs": [],
   "source": []
  }
 ],
 "metadata": {
  "kernelspec": {
   "display_name": "Python 3 (ipykernel)",
   "language": "python",
   "name": "python3"
  },
  "language_info": {
   "codemirror_mode": {
    "name": "ipython",
    "version": 3
   },
   "file_extension": ".py",
   "mimetype": "text/x-python",
   "name": "python",
   "nbconvert_exporter": "python",
   "pygments_lexer": "ipython3",
   "version": "3.10.4"
  }
 },
 "nbformat": 4,
 "nbformat_minor": 5
}
