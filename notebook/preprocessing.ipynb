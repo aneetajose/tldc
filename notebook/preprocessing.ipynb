{
 "cells": [
  {
   "cell_type": "code",
   "execution_count": 7,
   "id": "b34cda57",
   "metadata": {},
   "outputs": [],
   "source": [
    "import os\n",
    "import tensorflow as tf\n",
    "\n",
    "# Directory containing the original images\n",
    "original_dir = '../Dataset/train_data/Tomato___Yellow_Leaf_Curl_Virus'\n",
    "# Directory where flipped images will be saved\n",
    "flipped_dir = '../Dataset/train_data/Tomato___Yellow_Leaf_Curl_Virus'\n",
    "\n",
    "# Ensure the output directory exists\n",
    "os.makedirs(flipped_dir, exist_ok=True)\n",
    "\n",
    "# Get a list of all image files in the original directory\n",
    "image_files = tf.io.gfile.glob(os.path.join(original_dir, '*.jpg'))\n",
    "\n",
    "# Apply flip_left_right transformation and save flipped images\n",
    "for image_path in image_files:\n",
    "    # Read the image\n",
    "    image = tf.io.read_file(image_path)\n",
    "    image = tf.image.decode_jpeg(image, channels=3)  # Assuming RGB images\n",
    "    \n",
    "    # Apply flip_left_right transformation\n",
    "    flipped_image = tf.image.flip_left_right(image)\n",
    "    \n",
    "    # Save the flipped image\n",
    "    filename_without_extension = os.path.splitext(os.path.basename(image_path))[0]\n",
    "    flipped_filename = filename_without_extension + '_flipped.jpg'\n",
    "    flipped_image_path = os.path.join(flipped_dir, flipped_filename)\n",
    "    tf.io.write_file(flipped_image_path, tf.image.encode_jpeg(flipped_image))\n"
   ]
  },
  {
   "cell_type": "code",
   "execution_count": 9,
   "id": "6c6ff8ff",
   "metadata": {},
   "outputs": [],
   "source": [
    "import os\n",
    "import tensorflow as tf\n",
    "\n",
    "# Directory containing the original images\n",
    "original_dir = '../Dataset/train_data/Tomato___Yellow_Leaf_Curl_Virus'\n",
    "# Directory where flipped images will be saved\n",
    "rot_dir = '../Dataset/train_data/Tomato___Yellow_Leaf_Curl_Virus'\n",
    "\n",
    "# Ensure the output directory exists\n",
    "os.makedirs(rot_dir, exist_ok=True)\n",
    "\n",
    "# Get a list of all image files in the original directory\n",
    "image_files = tf.io.gfile.glob(os.path.join(original_dir, '*.jpg'))\n",
    "\n",
    "# Apply flip_left_right transformation and save flipped images\n",
    "for image_path in image_files:\n",
    "    # Read the image\n",
    "    image = tf.io.read_file(image_path)\n",
    "    image = tf.image.decode_jpeg(image, channels=3)  # Assuming RGB images\n",
    "    \n",
    "    # Apply rotation\n",
    "    rotated_image = tf.image.rot90(image, k=tf.random.uniform(shape=[], minval=0, maxval=4, dtype=tf.int32))      \n",
    "    # Save the image\n",
    "    filename_without_extension = os.path.splitext(os.path.basename(image_path))[0]\n",
    "    rot_filename = filename_without_extension + '_rotated.jpg'\n",
    "    rot_image_path = os.path.join(rot_dir, rot_filename)\n",
    "    tf.io.write_file(rot_image_path, tf.image.encode_jpeg(rotated_image))"
   ]
  },
  {
   "cell_type": "code",
   "execution_count": 10,
   "id": "1c2bb27d",
   "metadata": {},
   "outputs": [],
   "source": [
    "# Directory containing the original images\n",
    "original_dir = '../Dataset/train_data/Tomato___Bacterial_spot'\n",
    "# Directory where flipped images will be saved\n",
    "rot_dir = '../Dataset/train_data/Tomato___Bacterial_spot'\n",
    "\n",
    "# Ensure the output directory exists\n",
    "os.makedirs(rot_dir, exist_ok=True)\n",
    "\n",
    "# Get a list of all image files in the original directory\n",
    "image_files = tf.io.gfile.glob(os.path.join(original_dir, '*.jpg'))\n",
    "\n",
    "# Apply flip_left_right transformation and save flipped images\n",
    "for image_path in image_files:\n",
    "    # Read the image\n",
    "    image = tf.io.read_file(image_path)\n",
    "    image = tf.image.decode_jpeg(image, channels=3)  # Assuming RGB images\n",
    "    \n",
    "    # Apply rotation\n",
    "    rotated_image = tf.image.rot90(image, k=tf.random.uniform(shape=[], minval=0, maxval=4, dtype=tf.int32))      \n",
    "    # Save the image\n",
    "    filename_without_extension = os.path.splitext(os.path.basename(image_path))[0]\n",
    "    rot_filename = filename_without_extension + '_rotated.jpg'\n",
    "    rot_image_path = os.path.join(rot_dir, rot_filename)\n",
    "    tf.io.write_file(rot_image_path, tf.image.encode_jpeg(rotated_image))"
   ]
  },
  {
   "cell_type": "code",
   "execution_count": null,
   "id": "bae8cfca",
   "metadata": {},
   "outputs": [],
   "source": []
  }
 ],
 "metadata": {
  "kernelspec": {
   "display_name": "Python 3 (ipykernel)",
   "language": "python",
   "name": "python3"
  },
  "language_info": {
   "codemirror_mode": {
    "name": "ipython",
    "version": 3
   },
   "file_extension": ".py",
   "mimetype": "text/x-python",
   "name": "python",
   "nbconvert_exporter": "python",
   "pygments_lexer": "ipython3",
   "version": "3.10.4"
  }
 },
 "nbformat": 4,
 "nbformat_minor": 5
}
