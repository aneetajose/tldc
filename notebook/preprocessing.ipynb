{
 "cells": [
  {
   "cell_type": "code",
   "execution_count": 1,
   "id": "b11e9a8a",
   "metadata": {},
   "outputs": [],
   "source": [
    "import os\n",
    "import tensorflow as tf"
   ]
  },
  {
   "cell_type": "code",
   "execution_count": 2,
   "id": "a2e92cef",
   "metadata": {},
   "outputs": [],
   "source": [
    "# Directory containing the original images\n",
    "original_dir = '../Dataset/disease_type/train_data/Tomato___Healthy'\n",
    "# Directory where augmented images will be saved\n",
    "augmented_dir = '../Dataset/disease_type/augmented_data/Tomato___Healthy'\n",
    "\n",
    "# Ensure the output directory exists\n",
    "os.makedirs(augmented_dir, exist_ok=True)\n",
    "\n",
    "# Get a list of all image files in the original directory\n",
    "image_files = tf.io.gfile.glob(os.path.join(original_dir, '*.jpg'))\n",
    "\n",
    "# Apply augmentation (flipping, rotation, and noise) and save augmented images\n",
    "for image_path in image_files:\n",
    "    # Read the image\n",
    "    image = tf.io.read_file(image_path)\n",
    "    image = tf.image.decode_jpeg(image, channels=3)  # Assuming RGB images\n",
    "    \n",
    "    # Apply flipping\n",
    "    flipped_image = tf.image.flip_left_right(image)\n",
    "    \n",
    "    # Apply rotation\n",
    "    rotated_image = tf.image.rot90(image, k=tf.random.uniform(shape=[], minval=0, maxval=4, dtype=tf.int32))  # Rotate by 0, 90, 180, or 270 degrees\n",
    "    \n",
    "    # Add noise\n",
    "    noise = tf.random.normal(shape=tf.shape(image), mean=0.0, stddev=0.1, dtype=tf.float32)  # Adjust stddev as needed\n",
    "    noise = tf.cast(noise, tf.uint8)  # Convert noise tensor to uint8\n",
    "    noisy_flipped_image = tf.cast(flipped_image, tf.uint8) + noise\n",
    "    noisy_rotated_image = tf.cast(rotated_image, tf.uint8) + noise\n",
    "\n",
    "    # Clip pixel values to [0, 255]\n",
    "    noisy_flipped_image = tf.clip_by_value(noisy_flipped_image, 0, 255)\n",
    "    noisy_rotated_image = tf.clip_by_value(noisy_rotated_image, 0, 255)\n",
    "\n",
    "    \n",
    "    # Save the flipped image with noise\n",
    "    filename = os.path.basename(image_path)\n",
    "    flipped_image_path = os.path.join(augmented_dir, 'flipped_' + filename)\n",
    "    tf.io.write_file(flipped_image_path, tf.image.encode_jpeg(noisy_flipped_image))\n",
    "    \n",
    "    # Save the rotated image with noise\n",
    "    rotated_image_path = os.path.join(augmented_dir, 'rotated_' + filename)\n",
    "    tf.io.write_file(rotated_image_path, tf.image.encode_jpeg(noisy_rotated_image))\n"
   ]
  },
  {
   "cell_type": "code",
   "execution_count": null,
   "id": "c4ffb16c",
   "metadata": {},
   "outputs": [],
   "source": []
  }
 ],
 "metadata": {
  "kernelspec": {
   "display_name": "Python 3 (ipykernel)",
   "language": "python",
   "name": "python3"
  },
  "language_info": {
   "codemirror_mode": {
    "name": "ipython",
    "version": 3
   },
   "file_extension": ".py",
   "mimetype": "text/x-python",
   "name": "python",
   "nbconvert_exporter": "python",
   "pygments_lexer": "ipython3",
   "version": "3.10.4"
  }
 },
 "nbformat": 4,
 "nbformat_minor": 5
}
